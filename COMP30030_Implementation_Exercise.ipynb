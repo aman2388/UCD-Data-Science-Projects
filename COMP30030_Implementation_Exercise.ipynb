{
 "cells": [
  {
   "cell_type": "markdown",
   "metadata": {
    "id": "X6MekJTpryDC"
   },
   "source": [
    "<h1>COMP30030 Intro to AI: Practical 1 Optional Implementation Exercise</h1>"
   ]
  },
  {
   "cell_type": "markdown",
   "metadata": {
    "id": "SchYtccpcTFB"
   },
   "source": [
    "Student name: \n",
    "<br>\n",
    "Student number:"
   ]
  },
  {
   "cell_type": "markdown",
   "metadata": {
    "id": "JplkgmsksE8a"
   },
   "source": [
    "<h3> Task Description </h3>\n",
    "<text> You are provided with an adjacency list in a form of a Python dictionary of lists. <br>\n",
    "Your task is to implement Depth First Search and Breadth First Search algortithms below and return the correct traversal path in the form of a list. <br>\n",
    "At the end of this notebook you can find an example of simple assert test to verify the returned path is correct. In case of an error, running this cell will cause an output.<br> If you wish to add a target parameter in order to have complete search algorithms, please feel free to modify the number of arguments in the tests. In that case leave the target argument as the last node in the tree.<br>\n",
    " </text>"
   ]
  },
  {
   "cell_type": "code",
   "execution_count": 1,
   "metadata": {
    "id": "JOHaQ7y8rcjF"
   },
   "outputs": [],
   "source": [
    "adj = { \t# Adjacency list \n",
    "\t'a': ['b', 'c'], \n",
    "\t'b': ['d', 'e'],\n",
    "\t'c': ['f', 'g'],\n",
    "\t'd': ['h', 'i'],\n",
    "\t'e': [],\n",
    "\t'f': ['j'],\n",
    "\t'g': ['k'],\n",
    "\t'h': [],\n",
    "\t'i': [],\n",
    "\t'j': [],\n",
    "\t'k': ['l'],\n",
    "\t'l': []\n",
    "}"
   ]
  },
  {
   "cell_type": "code",
   "execution_count": 2,
   "metadata": {
    "id": "FbUJuH-gsC5R"
   },
   "outputs": [
    {
     "data": {
      "text/plain": [
       "['a', 'b', 'd', 'h', 'i', 'e', 'c', 'f', 'j', 'g', 'k', 'l']"
      ]
     },
     "execution_count": 2,
     "metadata": {},
     "output_type": "execute_result"
    }
   ],
   "source": [
    "# Write your Depth First Search code here\n",
    "def dfs(adj, start):\n",
    "    # keep track of all visited nodes\n",
    "    visited = []\n",
    "     # keep track of nodes to be checked\n",
    "    stack = [start]\n",
    "    # keep looping until stack is empty\n",
    "    while (len(stack)!=0):\n",
    "        # pop first node from stack\n",
    "        node = stack.pop()\n",
    "        if node not in visited:\n",
    "            # add node to list of visited nodes\n",
    "            visited.append(node)\n",
    "            neighbours = adj[node]\n",
    "        if node not in adj:\n",
    "            continue\n",
    "        # add reversed neighbours of node to stack\n",
    "        for neighbour in reversed(neighbours):\n",
    "            stack.append(neighbour)\n",
    "    return visited\n",
    "dfs(adj,'a')"
   ]
  },
  {
   "cell_type": "code",
   "execution_count": 3,
   "metadata": {
    "id": "dbJ3gVeU7hfw"
   },
   "outputs": [
    {
     "data": {
      "text/plain": [
       "['a', 'b', 'c', 'd', 'e', 'f', 'g', 'h', 'i', 'j', 'k', 'l']"
      ]
     },
     "execution_count": 3,
     "metadata": {},
     "output_type": "execute_result"
    }
   ],
   "source": [
    "# Write your Breadth First Search code here\n",
    "def bfs(adj, start):\n",
    "    # keep track of all visited nodes\n",
    "    visited = []\n",
    "    # keep track of nodes to be checked\n",
    "    queue = [start]\n",
    "    # keep looping until there are nodes still to be checked\n",
    "    while queue:\n",
    "        # pop first node from queue\n",
    "        node = queue.pop(0)\n",
    "        if node not in visited:\n",
    "            # add node to list of visited nodes\n",
    "            visited.append(node)\n",
    "            neighbours = adj[node]\n",
    "            # add neighbours of node to queue\n",
    "            for neighbour in neighbours:\n",
    "                queue.append(neighbour)\n",
    "    return visited\n",
    " \n",
    "bfs(adj,'a')"
   ]
  },
  {
   "cell_type": "code",
   "execution_count": 4,
   "metadata": {
    "id": "lIMBvjbGw3ig"
   },
   "outputs": [],
   "source": [
    "# Test your code by running this cell\n",
    "\n",
    "assert dfs(adj, 'a') == ['a', 'b', 'd', 'h', 'i', 'e', 'c', 'f', 'j', 'g', 'k', 'l'], \"DFS path incorrect\"\n",
    "assert bfs(adj, 'a') == ['a', 'b', 'c', 'd', 'e', 'f', 'g', 'h', 'i', 'j', 'k', 'l'], \"BFS path incorrect\""
   ]
  }
 ],
 "metadata": {
  "colab": {
   "name": "Practical 1 Implementation Exercise.ipynb",
   "provenance": []
  },
  "kernelspec": {
   "display_name": "Python 3",
   "language": "python",
   "name": "python3"
  },
  "language_info": {
   "codemirror_mode": {
    "name": "ipython",
    "version": 3
   },
   "file_extension": ".py",
   "mimetype": "text/x-python",
   "name": "python",
   "nbconvert_exporter": "python",
   "pygments_lexer": "ipython3",
   "version": "3.7.6"
  }
 },
 "nbformat": 4,
 "nbformat_minor": 4
}
